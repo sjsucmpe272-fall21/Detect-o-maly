{
 "cells": [
  {
   "cell_type": "code",
   "execution_count": 1,
   "metadata": {},
   "outputs": [],
   "source": [
    "import pandas as pd\n",
    "import os\n",
    "import numpy as np\n",
    "import re\n",
    "from sklearn.utils import shuffle\n",
    "from collections import OrderedDict"
   ]
  },
  {
   "cell_type": "code",
   "execution_count": null,
   "metadata": {},
   "outputs": [],
   "source": [
    "def slice_hdfs(x, y, window_size):\n",
    "    results_data = []\n",
    "    print(\"Slicing {} sessions, with window {}\".format(x.shape[0], window_size))\n",
    "    for idx, sequence in enumerate(x):\n",
    "        seqlen = len(sequence)\n",
    "        i = 0\n",
    "        while (i + window_size) < seqlen:\n",
    "            slice = sequence[i: i + window_size]\n",
    "            results_data.append([idx, slice, sequence[i + window_size], y[idx]])\n",
    "            i += 1\n",
    "        else:\n",
    "            slice = sequence[i: i + window_size]\n",
    "            slice += [\"#Pad\"] * (window_size - len(slice))\n",
    "            results_data.append([idx, slice, \"#Pad\", y[idx]])\n",
    "    results_df = pd.DataFrame(results_data, columns=[\"SessionId\", \"EventSequence\", \"Label\", \"SessionLabel\"])\n",
    "    print(\"Slicing done, {} windows generated\".format(results_df.shape[0]))\n",
    "    return results_df[[\"SessionId\", \"EventSequence\"]], results_df[\"Label\"], results_df[\"SessionLabel\"]"
   ]
  },
  {
   "cell_type": "code",
   "execution_count": null,
   "metadata": {},
   "outputs": [],
   "source": [
    "assert window == 'session', \"Only window=session is supported for HDFS dataset.\"\n",
    "print(\"Loading\", log_file)\n",
    "struct_log = pd.read_csv(log_file, engine='c',\n",
    "        na_filter=False, memory_map=True)\n",
    "data_dict = OrderedDict()\n",
    "for idx, row in struct_log.iterrows():\n",
    "    blkId_list = re.findall(r'(blk_-?\\d+)', row['Content'])\n",
    "    blkId_set = set(blkId_list)\n",
    "    for blk_Id in blkId_set:\n",
    "        if not blk_Id in data_dict:\n",
    "            data_dict[blk_Id] = []\n",
    "        data_dict[blk_Id].append(row['EventId'])\n",
    "data_df = pd.DataFrame(list(data_dict.items()), columns=['BlockId', 'EventSequence'])\n",
    "\n",
    "if label_file:\n",
    "    # Split training and validation set in a class-uniform way\n",
    "    label_data = pd.read_csv(label_file, engine='c', na_filter=False, memory_map=True)\n",
    "    label_data = label_data.set_index('BlockId')\n",
    "    label_dict = label_data['Label'].to_dict()\n",
    "    data_df['Label'] = data_df['BlockId'].apply(lambda x: 1 if label_dict[x] == 'Anomaly' else 0)\n",
    "\n",
    "    # Split train and test data\n",
    "    (x_train, y_train), (x_test, y_test) = _split_data(data_df['EventSequence'].values, \n",
    "        data_df['Label'].values, train_ratio, split_type)\n",
    "\n",
    "    print(y_train.sum(), y_test.sum())"
   ]
  }
 ],
 "metadata": {
  "kernelspec": {
   "display_name": "Python 3",
   "language": "python",
   "name": "python3"
  },
  "language_info": {
   "codemirror_mode": {
    "name": "ipython",
    "version": 3
   },
   "file_extension": ".py",
   "mimetype": "text/x-python",
   "name": "python",
   "nbconvert_exporter": "python",
   "pygments_lexer": "ipython3",
   "version": "3.7.6"
  }
 },
 "nbformat": 4,
 "nbformat_minor": 4
}
